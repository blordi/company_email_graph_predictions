{
 "cells": [
  {
   "cell_type": "markdown",
   "id": "66f0bba7-0c7b-4333-8a0d-b8233014da82",
   "metadata": {},
   "source": [
    "# Company Email Project"
   ]
  },
  {
   "cell_type": "code",
   "execution_count": 3,
   "id": "c218bc70-b4b6-4b46-9bf3-56552591a57f",
   "metadata": {},
   "outputs": [],
   "source": [
    "import networkx as nx\n",
    "import pandas as pd\n",
    "import numpy as np\n",
    "import pickle"
   ]
  },
  {
   "cell_type": "markdown",
   "id": "ff93d03d-e7e9-4174-8bd4-73a01fd0023d",
   "metadata": {},
   "source": [
    "\n",
    "## Company Emails\n",
    "For this project I worked with a company's email network where each node corresponds to a person at the company, and each edge indicates that at least one email has been sent between two people.\n",
    "\n",
    "The network also contains the node attributes `Department` and `ManagmentSalary`.\n",
    "\n",
    "`Department` indicates the department in the company which the person belongs to, and `ManagmentSalary` indicates whether that person is receiving a managment position salary."
   ]
  },
  {
   "cell_type": "code",
   "execution_count": 4,
   "id": "639a1630-17f7-4c16-b91b-e56df8551103",
   "metadata": {},
   "outputs": [
    {
     "name": "stdout",
     "output_type": "stream",
     "text": [
      "Graph with 1005 nodes and 16706 edges\n"
     ]
    }
   ],
   "source": [
    "G = pickle.load(open('assets/email_prediction_NEW.txt', 'rb'))\n",
    "\n",
    "print(f\"Graph with {len(nx.nodes(G))} nodes and {len(nx.edges(G))} edges\")"
   ]
  },
  {
   "cell_type": "markdown",
   "id": "e869c282-27ac-49d4-a3ef-75fa6f0044d9",
   "metadata": {},
   "source": [
    "### Salary Prediction\n",
    "\n",
    "Using network `G`, I identified the people in the network with missing values for the node attribute `ManagementSalary` and predicted whether or not these individuals are receiving a managment position salary.\n",
    "\n",
    "To accomplish this, I needed to create a matrix of node features using networkx, train a sklearn classifier on nodes that have `ManagementSalary` data, and predict a probability of the node receiving a managment salary for nodes where `ManagementSalary` is missing.\n",
    "\n",
    "\n",
    "\n",
    "My predictions are given as the probability that the corresponding employee is receiving a managment position salary.\n",
    "\n",
    "The evaluation metric for this assignment is the Area Under the ROC Curve (AUC).\n"
   ]
  },
  {
   "cell_type": "code",
   "execution_count": 5,
   "id": "fecc61af-e218-4d08-af2a-3038623c2489",
   "metadata": {},
   "outputs": [
    {
     "data": {
      "text/plain": [
       "[(0, {'Department': 1, 'ManagementSalary': 0.0}),\n",
       " (1, {'Department': 1, 'ManagementSalary': nan}),\n",
       " (581, {'Department': 3, 'ManagementSalary': 0.0}),\n",
       " (6, {'Department': 25, 'ManagementSalary': 1.0}),\n",
       " (65, {'Department': 4, 'ManagementSalary': nan})]"
      ]
     },
     "execution_count": 5,
     "metadata": {},
     "output_type": "execute_result"
    }
   ],
   "source": [
    "list(G.nodes(data=True))[:5] # print the first 5 nodes"
   ]
  },
  {
   "cell_type": "code",
   "execution_count": 24,
   "id": "3618eaee-8109-4a99-94d0-9d7ca8b5654d",
   "metadata": {},
   "outputs": [
    {
     "data": {
      "text/plain": [
       "(Node\n",
       " 1      0.293804\n",
       " 65     0.490633\n",
       " 18     0.092567\n",
       " 215    0.251156\n",
       " 283    0.932332\n",
       "          ...   \n",
       " 691    0.060019\n",
       " 788    0.100908\n",
       " 944    0.100429\n",
       " 798    0.021664\n",
       " 808    0.055189\n",
       " Length: 252, dtype: float64,\n",
       " 'the AUC score is: 0.8564693556836039')"
      ]
     },
     "execution_count": 24,
     "metadata": {},
     "output_type": "execute_result"
    }
   ],
   "source": [
    "def salary_predictions():\n",
    "    from sklearn.preprocessing import StandardScaler\n",
    "    from sklearn.ensemble import RandomForestClassifier\n",
    "    from sklearn.model_selection import train_test_split\n",
    "    from sklearn.metrics import roc_auc_score\n",
    "    from sklearn.svm import SVC\n",
    "    from sklearn.metrics import confusion_matrix, classification_report\n",
    "# Create dataframe of relevant data   \n",
    "    df = pd.DataFrame(index=G.nodes)\n",
    "    df.index.names = ['Node']\n",
    "    df['Department'] = pd.Series(nx.get_node_attributes(G, 'Department'))\n",
    "    df['ManagementSalary'] = pd.Series(nx.get_node_attributes(G, 'ManagementSalary'))\n",
    "    # df['clustering'] = pd.Series(nx.clustering(G))\n",
    "    df['degree centrality'] = pd.Series(nx.degree_centrality(G))\n",
    "    df[\"shortest path\"] = pd.Series(list(nx.shortest_path(G)))\n",
    "# Split dataframe on training data for random forest classifier and data that needs to be classified\n",
    "    df_train = df[df['ManagementSalary'].notnull()]\n",
    "    df_test = df[df['ManagementSalary'].isnull()]\n",
    "# Create X and y for training classifier\n",
    "    X = df_train.drop('ManagementSalary', axis = 1)\n",
    "    y = df_train['ManagementSalary']\n",
    "# Train test split\n",
    "    X_train, X_test, y_train, y_test = train_test_split(X,y)\n",
    "    ss = StandardScaler()\n",
    "    X_train = ss.fit_transform(X_train)\n",
    "    X_test = ss.fit_transform(X_test)\n",
    "# # Train model\n",
    "    rfc = RandomForestClassifier(max_depth = 5)\n",
    "    rfc.fit(X_train, y_train)\n",
    "    # rfpredictions = rfc.predict(X_test)\n",
    "    rfc_auc = roc_auc_score(y_test, rfc.predict_proba(X_test)[:, 1])\n",
    "# # Apply Model\n",
    "    df_test = df_test.drop('ManagementSalary', axis = 1)\n",
    "    # df_test['ManagementSalary'] = pd.Series(rfc.predict(df_test))\n",
    "    df_test_tran = ss.fit_transform(df_test)\n",
    "    answer = pd.Series(rfc.predict_proba(df_test_tran)[:, 1], index= df_test.index)\n",
    "    return answer, \"the AUC score is: \"+str(rfc_auc)\n",
    "    # return rfc.predict_proba(df_test)[:, 1]\n",
    "salary_predictions()"
   ]
  },
  {
   "cell_type": "markdown",
   "id": "ffa16841-f1e2-4696-a8c0-43bea78139eb",
   "metadata": {},
   "source": [
    "### New Connections Prediction\n",
    "\n",
    "I predicted future connections between employees of the network. The future connections information has been loaded into the variable `future_connections`. The index is a tuple indicating a pair of nodes that currently do not have a connection, and the `Future Connection` column indicates if an edge between those two nodes will exist in the future, where a value of 1.0 indicates a future connection."
   ]
  },
  {
   "cell_type": "code",
   "execution_count": 26,
   "id": "61e2d69c-2446-4510-906e-254912c67573",
   "metadata": {},
   "outputs": [
    {
     "data": {
      "text/html": [
       "<div>\n",
       "<style scoped>\n",
       "    .dataframe tbody tr th:only-of-type {\n",
       "        vertical-align: middle;\n",
       "    }\n",
       "\n",
       "    .dataframe tbody tr th {\n",
       "        vertical-align: top;\n",
       "    }\n",
       "\n",
       "    .dataframe thead th {\n",
       "        text-align: right;\n",
       "    }\n",
       "</style>\n",
       "<table border=\"1\" class=\"dataframe\">\n",
       "  <thead>\n",
       "    <tr style=\"text-align: right;\">\n",
       "      <th></th>\n",
       "      <th>Future Connection</th>\n",
       "    </tr>\n",
       "  </thead>\n",
       "  <tbody>\n",
       "    <tr>\n",
       "      <th>(6, 840)</th>\n",
       "      <td>0.0</td>\n",
       "    </tr>\n",
       "    <tr>\n",
       "      <th>(4, 197)</th>\n",
       "      <td>0.0</td>\n",
       "    </tr>\n",
       "    <tr>\n",
       "      <th>(620, 979)</th>\n",
       "      <td>0.0</td>\n",
       "    </tr>\n",
       "    <tr>\n",
       "      <th>(519, 872)</th>\n",
       "      <td>0.0</td>\n",
       "    </tr>\n",
       "    <tr>\n",
       "      <th>(382, 423)</th>\n",
       "      <td>0.0</td>\n",
       "    </tr>\n",
       "    <tr>\n",
       "      <th>(97, 226)</th>\n",
       "      <td>1.0</td>\n",
       "    </tr>\n",
       "    <tr>\n",
       "      <th>(349, 905)</th>\n",
       "      <td>0.0</td>\n",
       "    </tr>\n",
       "    <tr>\n",
       "      <th>(429, 860)</th>\n",
       "      <td>0.0</td>\n",
       "    </tr>\n",
       "    <tr>\n",
       "      <th>(309, 989)</th>\n",
       "      <td>0.0</td>\n",
       "    </tr>\n",
       "    <tr>\n",
       "      <th>(468, 880)</th>\n",
       "      <td>0.0</td>\n",
       "    </tr>\n",
       "  </tbody>\n",
       "</table>\n",
       "</div>"
      ],
      "text/plain": [
       "            Future Connection\n",
       "(6, 840)                  0.0\n",
       "(4, 197)                  0.0\n",
       "(620, 979)                0.0\n",
       "(519, 872)                0.0\n",
       "(382, 423)                0.0\n",
       "(97, 226)                 1.0\n",
       "(349, 905)                0.0\n",
       "(429, 860)                0.0\n",
       "(309, 989)                0.0\n",
       "(468, 880)                0.0"
      ]
     },
     "execution_count": 26,
     "metadata": {},
     "output_type": "execute_result"
    }
   ],
   "source": [
    "future_connections = pd.read_csv('assets/Future_Connections.csv', index_col=0, converters={0: eval})\n",
    "future_connections.head(10)"
   ]
  },
  {
   "cell_type": "markdown",
   "id": "a2137362-ea32-4efe-85fd-fa275a1238f2",
   "metadata": {},
   "source": [
    "Using network `G` and `future_connections`, I identified the edges in `future_connections` with missing values and predicted whether or not these edges will have a future connection.\n",
    "\n",
    "\n",
    "\n",
    "My predictions are given as the probability of the corresponding edge being a future connection.\n",
    "\n",
    "The evaluation metric for this assignment is the Area Under the ROC Curve (AUC).\n"
   ]
  },
  {
   "cell_type": "code",
   "execution_count": 27,
   "id": "b00d8656-6426-47ee-a356-a5d6ff659b62",
   "metadata": {},
   "outputs": [
    {
     "data": {
      "text/plain": [
       "((107, 348)    0.023702\n",
       " (542, 751)    0.014528\n",
       " (20, 426)     0.605238\n",
       " (50, 989)     0.014041\n",
       " (942, 986)    0.014007\n",
       "                 ...   \n",
       " (165, 923)    0.016813\n",
       " (673, 755)    0.014042\n",
       " (939, 940)    0.014007\n",
       " (555, 905)    0.014739\n",
       " (75, 101)     0.018963\n",
       " Length: 122112, dtype: float64,\n",
       " 'the AUC score is: 0.9084432914858716')"
      ]
     },
     "execution_count": 27,
     "metadata": {},
     "output_type": "execute_result"
    }
   ],
   "source": [
    "def new_connections_predictions():\n",
    "    from sklearn.preprocessing import StandardScaler, LabelEncoder\n",
    "    from sklearn.ensemble import RandomForestClassifier\n",
    "    from sklearn.model_selection import train_test_split\n",
    "    from sklearn.metrics import roc_auc_score\n",
    "#   create features for classifier\n",
    "    future_connections['common_neighbors'] = [len(list(nx.common_neighbors(G, edge[0],edge[1]))) for edge in future_connections.index]\n",
    "    future_connections[\"preferential_attachment\"] = [i[2] for i in nx.preferential_attachment(G, ebunch=future_connections.index)]\n",
    "    future_connections[\"jaccard\"] = [i[2] for i in nx.jaccard_coefficient(G, ebunch=future_connections.index)]\n",
    "# Split data for training and predicting\n",
    "    df_train = future_connections[~future_connections['Future Connection'].isnull()]\n",
    "    df_test = future_connections[future_connections['Future Connection'].isnull()]\n",
    "# Create training data\n",
    "    X = df_train.drop('Future Connection', axis = 1)\n",
    "    y = df_train['Future Connection']\n",
    "    X_train, X_test, y_train, y_test = train_test_split(X,y)\n",
    "    ss = StandardScaler()\n",
    "    X_train = ss.fit_transform(X_train)\n",
    "    X_test = ss.fit_transform(X_test)\n",
    "# train random forest classifier with training data\n",
    "    rfc = RandomForestClassifier(max_depth = 5)\n",
    "    rfc.fit(X_train, y_train)\n",
    "# Compute Area under the curve score\n",
    "    rfc_auc = roc_auc_score(y_test, rfc.predict_proba(X_test)[:, 1])\n",
    "# # Apply Model\n",
    "    df_test = df_test.drop('Future Connection', axis = 1)\n",
    "    df_test_tran = ss.fit_transform(df_test)\n",
    "    answer = pd.Series(rfc.predict_proba(df_test_tran)[:, 1], index= df_test.index)\n",
    "    return answer, \"the AUC score is: \"+str(rfc_auc)\n",
    "\n",
    "new_connections_predictions()\n",
    "    "
   ]
  },
  {
   "cell_type": "code",
   "execution_count": null,
   "id": "1dcf6f6f-3503-4a77-8b64-27492e742d08",
   "metadata": {},
   "outputs": [],
   "source": []
  }
 ],
 "metadata": {
  "kernelspec": {
   "display_name": "Python 3 (ipykernel)",
   "language": "python",
   "name": "python3"
  },
  "language_info": {
   "codemirror_mode": {
    "name": "ipython",
    "version": 3
   },
   "file_extension": ".py",
   "mimetype": "text/x-python",
   "name": "python",
   "nbconvert_exporter": "python",
   "pygments_lexer": "ipython3",
   "version": "3.7.9"
  }
 },
 "nbformat": 4,
 "nbformat_minor": 5
}
